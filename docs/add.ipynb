{
 "cells": [
  {
   "cell_type": "code",
   "execution_count": 1,
   "metadata": {},
   "outputs": [],
   "source": [
    "import os\n",
    "\n",
    "# 要添加的脚本内容\n",
    "script_content = \"\"\"\n",
    "<script src=\"https://giscus.app/client.js\"\n",
    "        data-repo=\"InuyashaYang/AIDIY\"\n",
    "        data-repo-id=\"R_kgDOM1VVTQ\"\n",
    "        data-category=\"Announcements\"\n",
    "        data-category-id=\"DIC_kwDOM1VVTc4Ckls_\"\n",
    "        data-mapping=\"pathname\"\n",
    "        data-strict=\"0\"\n",
    "        data-reactions-enabled=\"1\"\n",
    "        data-emit-metadata=\"0\"\n",
    "        data-input-position=\"bottom\"\n",
    "        data-theme=\"preferred_color_scheme\"\n",
    "        data-lang=\"zh-CN\"\n",
    "        crossorigin=\"anonymous\"\n",
    "        async>\n",
    "</script>\n",
    "\"\"\"\n",
    "\n",
    "# 要遍历的目录\n",
    "directory_path = r\"C:\\Users\\Inuyasha\\Desktop\\AIDIY\\docs\"\n",
    "\n",
    "def add_script_to_markdown_files(directory):\n",
    "    for root, dirs, files in os.walk(directory):\n",
    "        for file in files:\n",
    "            if file.endswith(\".md\"):\n",
    "                file_path = os.path.join(root, file)\n",
    "                with open(file_path, 'r+', encoding='utf-8') as f:\n",
    "                    content = f.read()\n",
    "                    # 检查脚本是否已经存在\n",
    "                    if script_content.strip() not in content:\n",
    "                        # 在末尾添加脚本\n",
    "                        f.write(\"\\n\" + script_content)\n",
    "\n",
    "# 执行脚本\n",
    "add_script_to_markdown_files(directory_path)\n"
   ]
  }
 ],
 "metadata": {
  "kernelspec": {
   "display_name": "Python 3",
   "language": "python",
   "name": "python3"
  },
  "language_info": {
   "codemirror_mode": {
    "name": "ipython",
    "version": 3
   },
   "file_extension": ".py",
   "mimetype": "text/x-python",
   "name": "python",
   "nbconvert_exporter": "python",
   "pygments_lexer": "ipython3",
   "version": "3.12.7"
  }
 },
 "nbformat": 4,
 "nbformat_minor": 2
}
